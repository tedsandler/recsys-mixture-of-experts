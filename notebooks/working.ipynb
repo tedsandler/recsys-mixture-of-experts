{
 "cells": [
  {
   "cell_type": "code",
   "execution_count": 1,
   "id": "188bf68c",
   "metadata": {},
   "outputs": [],
   "source": [
    "import numpy as np\n",
    "import numpy.random as npr\n",
    "import pandas as pd\n",
    "import matplotlib.pyplot as plt\n",
    "import seaborn as sns\n",
    "import sklearn\n",
    "import torch"
   ]
  },
  {
   "cell_type": "code",
   "execution_count": null,
   "id": "03892dbf",
   "metadata": {},
   "outputs": [],
   "source": [
    "data_dir = \"../ml-1m/processed\"\n",
    "\n",
    "X = np.load(f\"{data_dir}/X.npy\")\n",
    "Z = np.load(f\"{data_dir}/Z.npy\")\n",
    "Y = np.load(f\"{data_dir}/Y.npy\")\n",
    "R = np.load(f\"{data_dir}/R.npy\")\n",
    "\n",
    "num_users, num_movies = Y.shape\n",
    "dim_users = X.shape[1]\n",
    "dim_movies = Z.shape[1]\n",
    "\n",
    "train_users = 5000\n",
    "users_perm = npr.permutation(num_users)\n",
    "\n",
    "X_trn = X[:train_users]\n",
    "Y_trn = Y[:train_users]\n",
    "X_tst = X[train_users:]\n",
    "Y_tst = Y[train_users:]"
   ]
  },
  {
   "cell_type": "code",
   "execution_count": null,
   "id": "2c909028",
   "metadata": {},
   "outputs": [],
   "source": []
  }
 ],
 "metadata": {
  "kernelspec": {
   "display_name": "Python 3 (ipykernel)",
   "language": "python",
   "name": "python3"
  },
  "language_info": {
   "codemirror_mode": {
    "name": "ipython",
    "version": 3
   },
   "file_extension": ".py",
   "mimetype": "text/x-python",
   "name": "python",
   "nbconvert_exporter": "python",
   "pygments_lexer": "ipython3",
   "version": "3.9.7"
  }
 },
 "nbformat": 4,
 "nbformat_minor": 5
}
