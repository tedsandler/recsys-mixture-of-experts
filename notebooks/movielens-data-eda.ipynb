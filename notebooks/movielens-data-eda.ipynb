{
 "cells": [
  {
   "cell_type": "code",
   "execution_count": 1,
   "id": "188bf68c",
   "metadata": {},
   "outputs": [],
   "source": [
    "import numpy as np\n",
    "import numpy.random as npr\n",
    "import pandas as pd\n",
    "import matplotlib.pyplot as plt\n",
    "import seaborn as sns\n",
    "from sklearn.cluster import KMeans\n",
    "from sklearn.linear_model import LogisticRegression\n",
    "import torch"
   ]
  },
  {
   "cell_type": "code",
   "execution_count": 2,
   "id": "03892dbf",
   "metadata": {},
   "outputs": [],
   "source": [
    "data_dir = \"../ml-1m/processed\"\n",
    "df_users = pd.read_csv(f\"{data_dir}/users.csv\", sep=\"\\t\")\n",
    "df_movies = pd.read_csv(f\"{data_dir}/movies.csv\", sep=\"\\t\")\n",
    "\n",
    "X = np.load(f\"{data_dir}/X.npy\")\n",
    "Y = np.load(f\"{data_dir}/Y.npy\")\n",
    "R = np.load(f\"{data_dir}/R.npy\")\n",
    "\n",
    "n_users, n_movies = Y.shape\n",
    "d_users = X.shape[1]\n",
    "\n",
    "train_users = 5000\n",
    "users_perm = npr.permutation(n_users)\n",
    "\n",
    "X_trn = X[:train_users]\n",
    "Y_trn = Y[:train_users]\n",
    "X_tst = X[train_users:]\n",
    "Y_tst = Y[train_users:]"
   ]
  },
  {
   "cell_type": "code",
   "execution_count": 3,
   "id": "852537a1",
   "metadata": {},
   "outputs": [],
   "source": [
    "n_clusters = 16\n",
    "kmeans = KMeans(n_clusters=n_clusters, init='k-means++', n_init=10).fit(Y_trn.T)"
   ]
  },
  {
   "cell_type": "code",
   "execution_count": 4,
   "id": "74bbb022",
   "metadata": {},
   "outputs": [
    {
     "name": "stdout",
     "output_type": "stream",
     "text": [
      "\n",
      "V.shape = (3883, 16) \n",
      "\n",
      "\n",
      "=== Clusters ===\n",
      "\n",
      "cluster #0\n",
      "\n",
      "2899    Time Bandits (1981)\n",
      "3569       Moonraker (1979)\n",
      "2242            2010 (1984)\n",
      "1255      Highlander (1986)\n",
      "2219      Thing, The (1982)\n",
      "Name: title, dtype: object \n",
      "\n",
      "cluster #1\n",
      "\n",
      "3882                                Contender, The (2000)\n",
      "1598               I Know What You Did Last Summer (1997)\n",
      "467                           Hudsucker Proxy, The (1994)\n",
      "2378                                 Varsity Blues (1999)\n",
      "464     Englishman Who Went Up a Hill, But Came Down a...\n",
      "Name: title, dtype: object \n",
      "\n",
      "cluster #2\n",
      "\n",
      "3352                    Animal House (1978)\n",
      "1023                        Die Hard (1988)\n",
      "1064    Monty Python's Life of Brian (1979)\n",
      "1202             Blues Brothers, The (1980)\n",
      "1892                        Rain Man (1988)\n",
      "Name: title, dtype: object \n",
      "\n",
      "cluster #3\n",
      "\n",
      "1305    Amityville: A New Generation (1993)\n",
      "3103                Ulysses (Ulisse) (1954)\n",
      "1633           Chairman of the Board (1998)\n",
      "1631                   Critical Care (1997)\n",
      "1629                       Incognito (1997)\n",
      "Name: title, dtype: object \n",
      "\n",
      "cluster #4\n",
      "\n",
      "589     Silence of the Lambs, The (1991)\n",
      "49            Usual Suspects, The (1995)\n",
      "293                  Pulp Fiction (1994)\n",
      "2928         Being John Malkovich (1999)\n",
      "1959          Saving Private Ryan (1998)\n",
      "Name: title, dtype: object \n",
      "\n",
      "cluster #5\n",
      "\n",
      "3682                 Chicken Run (2000)\n",
      "3724                       X-Men (2000)\n",
      "3106                Galaxy Quest (1999)\n",
      "3045                 Toy Story 2 (1999)\n",
      "2918    Who Framed Roger Rabbit? (1988)\n",
      "Name: title, dtype: object \n",
      "\n",
      "cluster #6\n",
      "\n",
      "1941               Metropolis (1926)\n",
      "3131         Last Detail, The (1973)\n",
      "3132         Five Easy Pieces (1970)\n",
      "2676             Mission, The (1986)\n",
      "3135    Boys from Brazil, The (1978)\n",
      "Name: title, dtype: object \n",
      "\n",
      "cluster #7\n",
      "\n",
      "1505    Lost World: Jurassic Park, The (1997)\n",
      "2204                         Rush Hour (1998)\n",
      "2209                             Ronin (1998)\n",
      "2694          Thomas Crown Affair, The (1999)\n",
      "1732                    U.S. Marshalls (1998)\n",
      "Name: title, dtype: object \n",
      "\n",
      "cluster #8\n",
      "\n",
      "2199                         Few Good Men, A (1992)\n",
      "3686                      Perfect Storm, The (2000)\n",
      "3412                           High Fidelity (2000)\n",
      "2937                            Insider, The (1999)\n",
      "2631    South Park: Bigger, Longer and Uncut (1999)\n",
      "Name: title, dtype: object \n",
      "\n",
      "cluster #9\n",
      "\n",
      "1533                                      Face/Off (1997)\n",
      "453                                  Fugitive, The (1993)\n",
      "1192    Star Wars: Episode VI - Return of the Jedi (1983)\n",
      "770                         Independence Day (ID4) (1996)\n",
      "1081                    E.T. the Extra-Terrestrial (1982)\n",
      "Name: title, dtype: object \n",
      "\n",
      "cluster #10\n",
      "\n",
      "1546          Conan the Barbarian (1982)\n",
      "2075              Sixteen Candles (1984)\n",
      "2302                       Fletch (1985)\n",
      "2072            American Tail, An (1986)\n",
      "2300    Desperately Seeking Susan (1985)\n",
      "Name: title, dtype: object \n",
      "\n",
      "cluster #11\n",
      "\n",
      "1230    Bridge on the River Kwai, The (1957)\n",
      "1201                           Psycho (1960)\n",
      "1256                   Cool Hand Luke (1967)\n",
      "109                       Taxi Driver (1976)\n",
      "908                Gone with the Wind (1939)\n",
      "Name: title, dtype: object \n",
      "\n",
      "cluster #12\n",
      "\n",
      "376                        True Lies (1994)\n",
      "539     So I Married an Axe Murderer (1993)\n",
      "2233                 My Cousin Vinny (1992)\n",
      "1726              As Good As It Gets (1997)\n",
      "1029              That Thing You Do! (1996)\n",
      "Name: title, dtype: object \n",
      "\n",
      "cluster #13\n",
      "\n",
      "2456            Alligator (1980)\n",
      "538            Son in Law (1993)\n",
      "3481          Hunger, The (1983)\n",
      "540     Striking Distance (1993)\n",
      "1804      Misérables, Les (1998)\n",
      "Name: title, dtype: object \n",
      "\n",
      "cluster #14\n",
      "\n",
      "0           Toy Story (1995)\n",
      "352      Forrest Gump (1994)\n",
      "584           Aladdin (1992)\n",
      "33               Babe (1995)\n",
      "1245    Groundhog Day (1993)\n",
      "Name: title, dtype: object \n",
      "\n",
      "cluster #15\n",
      "\n",
      "3570    Man with the Golden Gun, The (1974)\n",
      "1246                      Unforgiven (1992)\n",
      "2875                Dirty Dozen, The (1967)\n",
      "1204               Full Metal Jacket (1987)\n",
      "1252                          Patton (1970)\n",
      "Name: title, dtype: object \n",
      "\n"
     ]
    }
   ],
   "source": [
    "vs = []\n",
    "smoother = 0.001\n",
    "for k in range(n_clusters):\n",
    "    v_k = np.zeros(n_movies) + smoother\n",
    "    v_k[kmeans.labels_ == k] += 1\n",
    "    v_k = v_k / v_k.sum()\n",
    "    vs.append(v_k.reshape((n_movies, 1)))\n",
    "\n",
    "V = np.hstack(vs)\n",
    "\n",
    "print(\"\\nV.shape =\", V.shape, \"\\n\\n\\n=== Clusters ===\\n\")\n",
    "for k in range(n_clusters):\n",
    "    print(f\"cluster #{k}\\n\")\n",
    "    print(df_movies.iloc[np.argsort(-V[:,k])[:5]].title, \"\\n\")"
   ]
  },
  {
   "cell_type": "code",
   "execution_count": 5,
   "id": "40e6857e",
   "metadata": {},
   "outputs": [
    {
     "data": {
      "text/plain": [
       "((16, 3883), (5000, 3883))"
      ]
     },
     "execution_count": 5,
     "metadata": {},
     "output_type": "execute_result"
    }
   ],
   "source": [
    "V.T.shape, Y_trn.shape"
   ]
  },
  {
   "cell_type": "code",
   "execution_count": 6,
   "id": "b34a8e5f",
   "metadata": {},
   "outputs": [],
   "source": [
    "def log_loss(user_hist, cluster_dist):\n",
    "    return -np.dot(user_hist, np.log(cluster_dist))\n",
    "\n",
    "def get_best_clusters(Y, V):\n",
    "    assignments = []\n",
    "    for i in range(Y.shape[0]):\n",
    "        best_loss = np.inf\n",
    "        best_cluster = None\n",
    "        y_i = Y[i]\n",
    "        for k in range(V.shape[1]):\n",
    "            v_k = V[:,k]\n",
    "            ll = log_loss(y_i, v_k)\n",
    "            if ll < best_loss:\n",
    "                best_loss = ll\n",
    "                best_cluster = k\n",
    "        assignments.append(best_cluster)\n",
    "    return np.array(assignments)"
   ]
  },
  {
   "cell_type": "code",
   "execution_count": 7,
   "id": "4c0a2d88",
   "metadata": {},
   "outputs": [],
   "source": [
    "cluster_assignments = get_best_clusters(Y_trn, V)"
   ]
  },
  {
   "cell_type": "code",
   "execution_count": 8,
   "id": "923fde0d",
   "metadata": {},
   "outputs": [],
   "source": [
    "lr = LogisticRegression(max_iter=1000)"
   ]
  },
  {
   "cell_type": "code",
   "execution_count": 9,
   "id": "15c440bd",
   "metadata": {},
   "outputs": [
    {
     "data": {
      "text/html": [
       "<style>#sk-container-id-1 {color: black;background-color: white;}#sk-container-id-1 pre{padding: 0;}#sk-container-id-1 div.sk-toggleable {background-color: white;}#sk-container-id-1 label.sk-toggleable__label {cursor: pointer;display: block;width: 100%;margin-bottom: 0;padding: 0.3em;box-sizing: border-box;text-align: center;}#sk-container-id-1 label.sk-toggleable__label-arrow:before {content: \"▸\";float: left;margin-right: 0.25em;color: #696969;}#sk-container-id-1 label.sk-toggleable__label-arrow:hover:before {color: black;}#sk-container-id-1 div.sk-estimator:hover label.sk-toggleable__label-arrow:before {color: black;}#sk-container-id-1 div.sk-toggleable__content {max-height: 0;max-width: 0;overflow: hidden;text-align: left;background-color: #f0f8ff;}#sk-container-id-1 div.sk-toggleable__content pre {margin: 0.2em;color: black;border-radius: 0.25em;background-color: #f0f8ff;}#sk-container-id-1 input.sk-toggleable__control:checked~div.sk-toggleable__content {max-height: 200px;max-width: 100%;overflow: auto;}#sk-container-id-1 input.sk-toggleable__control:checked~label.sk-toggleable__label-arrow:before {content: \"▾\";}#sk-container-id-1 div.sk-estimator input.sk-toggleable__control:checked~label.sk-toggleable__label {background-color: #d4ebff;}#sk-container-id-1 div.sk-label input.sk-toggleable__control:checked~label.sk-toggleable__label {background-color: #d4ebff;}#sk-container-id-1 input.sk-hidden--visually {border: 0;clip: rect(1px 1px 1px 1px);clip: rect(1px, 1px, 1px, 1px);height: 1px;margin: -1px;overflow: hidden;padding: 0;position: absolute;width: 1px;}#sk-container-id-1 div.sk-estimator {font-family: monospace;background-color: #f0f8ff;border: 1px dotted black;border-radius: 0.25em;box-sizing: border-box;margin-bottom: 0.5em;}#sk-container-id-1 div.sk-estimator:hover {background-color: #d4ebff;}#sk-container-id-1 div.sk-parallel-item::after {content: \"\";width: 100%;border-bottom: 1px solid gray;flex-grow: 1;}#sk-container-id-1 div.sk-label:hover label.sk-toggleable__label {background-color: #d4ebff;}#sk-container-id-1 div.sk-serial::before {content: \"\";position: absolute;border-left: 1px solid gray;box-sizing: border-box;top: 0;bottom: 0;left: 50%;z-index: 0;}#sk-container-id-1 div.sk-serial {display: flex;flex-direction: column;align-items: center;background-color: white;padding-right: 0.2em;padding-left: 0.2em;position: relative;}#sk-container-id-1 div.sk-item {position: relative;z-index: 1;}#sk-container-id-1 div.sk-parallel {display: flex;align-items: stretch;justify-content: center;background-color: white;position: relative;}#sk-container-id-1 div.sk-item::before, #sk-container-id-1 div.sk-parallel-item::before {content: \"\";position: absolute;border-left: 1px solid gray;box-sizing: border-box;top: 0;bottom: 0;left: 50%;z-index: -1;}#sk-container-id-1 div.sk-parallel-item {display: flex;flex-direction: column;z-index: 1;position: relative;background-color: white;}#sk-container-id-1 div.sk-parallel-item:first-child::after {align-self: flex-end;width: 50%;}#sk-container-id-1 div.sk-parallel-item:last-child::after {align-self: flex-start;width: 50%;}#sk-container-id-1 div.sk-parallel-item:only-child::after {width: 0;}#sk-container-id-1 div.sk-dashed-wrapped {border: 1px dashed gray;margin: 0 0.4em 0.5em 0.4em;box-sizing: border-box;padding-bottom: 0.4em;background-color: white;}#sk-container-id-1 div.sk-label label {font-family: monospace;font-weight: bold;display: inline-block;line-height: 1.2em;}#sk-container-id-1 div.sk-label-container {text-align: center;}#sk-container-id-1 div.sk-container {/* jupyter's `normalize.less` sets `[hidden] { display: none; }` but bootstrap.min.css set `[hidden] { display: none !important; }` so we also need the `!important` here to be able to override the default hidden behavior on the sphinx rendered scikit-learn.org. See: https://github.com/scikit-learn/scikit-learn/issues/21755 */display: inline-block !important;position: relative;}#sk-container-id-1 div.sk-text-repr-fallback {display: none;}</style><div id=\"sk-container-id-1\" class=\"sk-top-container\"><div class=\"sk-text-repr-fallback\"><pre>LogisticRegression(max_iter=1000)</pre><b>In a Jupyter environment, please rerun this cell to show the HTML representation or trust the notebook. <br />On GitHub, the HTML representation is unable to render, please try loading this page with nbviewer.org.</b></div><div class=\"sk-container\" hidden><div class=\"sk-item\"><div class=\"sk-estimator sk-toggleable\"><input class=\"sk-toggleable__control sk-hidden--visually\" id=\"sk-estimator-id-1\" type=\"checkbox\" checked><label for=\"sk-estimator-id-1\" class=\"sk-toggleable__label sk-toggleable__label-arrow\">LogisticRegression</label><div class=\"sk-toggleable__content\"><pre>LogisticRegression(max_iter=1000)</pre></div></div></div></div></div>"
      ],
      "text/plain": [
       "LogisticRegression(max_iter=1000)"
      ]
     },
     "execution_count": 9,
     "metadata": {},
     "output_type": "execute_result"
    }
   ],
   "source": [
    "lr.fit(X_trn, cluster_assignments)"
   ]
  },
  {
   "cell_type": "code",
   "execution_count": 10,
   "id": "e833d246",
   "metadata": {},
   "outputs": [
    {
     "data": {
      "text/plain": [
       "0"
      ]
     },
     "execution_count": 10,
     "metadata": {},
     "output_type": "execute_result"
    }
   ],
   "source": [
    "(lr.predict(X_trn) == 15).sum()"
   ]
  },
  {
   "cell_type": "code",
   "execution_count": 11,
   "id": "211f9356",
   "metadata": {},
   "outputs": [
    {
     "data": {
      "text/plain": [
       "array([ 5, 14,  5,  9,  5, 14,  9, 14,  5, 14, 14, 11,  5,  4, 14,  5,  5,\n",
       "        5, 14,  9,  5, 14,  5,  5,  5, 14, 14, 14,  9,  4, 14,  4, 14, 14,\n",
       "        5, 14, 14, 14,  8,  5,  9, 14,  5,  5, 14,  5,  4, 14,  5,  5])"
      ]
     },
     "execution_count": 11,
     "metadata": {},
     "output_type": "execute_result"
    }
   ],
   "source": [
    "cluster_assignments[:50]"
   ]
  },
  {
   "cell_type": "code",
   "execution_count": 12,
   "id": "d9474873",
   "metadata": {},
   "outputs": [
    {
     "data": {
      "text/plain": [
       "array([[7.45620149e-04, 4.44042637e-04, 1.04789915e-03, 4.55846287e-02,\n",
       "        2.94936760e-01, 7.29077288e-04, 1.10303867e-02, 5.16989454e-04,\n",
       "        2.92358274e-02, 2.91863156e-04, 3.57853064e-03, 1.11389229e-02,\n",
       "        7.63838903e-05, 6.00306118e-01, 3.36949931e-04],\n",
       "       [9.00167453e-03, 1.07724054e-03, 7.72515181e-03, 5.45599223e-02,\n",
       "        3.08171864e-01, 6.94887523e-03, 8.74612329e-03, 2.41443512e-03,\n",
       "        1.40041653e-02, 1.71163389e-03, 3.06837099e-02, 1.91230925e-03,\n",
       "        2.86794064e-04, 5.16981795e-01, 3.57743053e-02],\n",
       "       [3.70797956e-03, 1.46726486e-04, 6.71289780e-03, 7.24978622e-02,\n",
       "        4.32840609e-01, 4.46041578e-04, 1.70789035e-03, 3.37300315e-03,\n",
       "        1.20555738e-01, 5.83599778e-04, 2.68415458e-03, 2.40037374e-03,\n",
       "        1.07064205e-04, 3.51709794e-01, 5.26266028e-04],\n",
       "       [1.27039297e-02, 7.44162402e-04, 5.26353222e-03, 1.76264079e-01,\n",
       "        2.82067058e-01, 2.07517389e-03, 2.07229281e-02, 4.30402257e-03,\n",
       "        7.78798956e-02, 1.14303160e-03, 6.96616997e-02, 1.52689405e-03,\n",
       "        2.86779313e-04, 3.37289670e-01, 8.06714391e-03],\n",
       "       [5.68787707e-03, 1.58346210e-04, 8.84845690e-03, 8.12784270e-02,\n",
       "        3.11239523e-01, 2.19842094e-03, 2.48019271e-03, 1.67974276e-03,\n",
       "        2.62076674e-02, 6.29143391e-04, 1.09856164e-02, 1.31643102e-03,\n",
       "        1.24028559e-04, 5.46061692e-01, 1.10443477e-03]])"
      ]
     },
     "execution_count": 12,
     "metadata": {},
     "output_type": "execute_result"
    }
   ],
   "source": [
    "lr.predict_proba(X_trn)[:5]"
   ]
  },
  {
   "cell_type": "code",
   "execution_count": null,
   "id": "a3392b6f",
   "metadata": {},
   "outputs": [],
   "source": []
  }
 ],
 "metadata": {
  "kernelspec": {
   "display_name": "Python 3 (ipykernel)",
   "language": "python",
   "name": "python3"
  },
  "language_info": {
   "codemirror_mode": {
    "name": "ipython",
    "version": 3
   },
   "file_extension": ".py",
   "mimetype": "text/x-python",
   "name": "python",
   "nbconvert_exporter": "python",
   "pygments_lexer": "ipython3",
   "version": "3.9.7"
  }
 },
 "nbformat": 4,
 "nbformat_minor": 5
}
